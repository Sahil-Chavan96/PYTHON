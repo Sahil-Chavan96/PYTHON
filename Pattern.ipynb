{
  "nbformat": 4,
  "nbformat_minor": 0,
  "metadata": {
    "colab": {
      "name": "Pattern.ipynb",
      "provenance": [],
      "collapsed_sections": []
    },
    "kernelspec": {
      "name": "python3",
      "display_name": "Python 3"
    },
    "language_info": {
      "name": "python"
    }
  },
  "cells": [
    {
      "cell_type": "code",
      "execution_count": null,
      "metadata": {
        "colab": {
          "base_uri": "https://localhost:8080/"
        },
        "id": "LefT15ihlK1y",
        "outputId": "dd2253a0-6fbc-46d6-c06d-5261b523f5fa"
      },
      "outputs": [
        {
          "output_type": "stream",
          "name": "stdout",
          "text": [
            "1\n",
            "12\n",
            "123\n",
            "1234\n",
            "12345\n"
          ]
        }
      ],
      "source": [
        "for i in range(1,6):\n",
        "  for j in range(1,i+1):\n",
        "    print(j,end='')\n",
        "  print()"
      ]
    },
    {
      "cell_type": "code",
      "source": [
        "for i in range(1,6):\n",
        "  for j in range(i):\n",
        "    print(i,end='')\n",
        "  print()"
      ],
      "metadata": {
        "colab": {
          "base_uri": "https://localhost:8080/"
        },
        "id": "0tX25RjUmhT_",
        "outputId": "58a0b927-aa5d-466b-ed72-6f569b0cb0bf"
      },
      "execution_count": null,
      "outputs": [
        {
          "output_type": "stream",
          "name": "stdout",
          "text": [
            "1\n",
            "22\n",
            "333\n",
            "4444\n",
            "55555\n"
          ]
        }
      ]
    },
    {
      "cell_type": "code",
      "source": [
        "for i in range(1,6):\n",
        "  for j in range(1,i+1):\n",
        "    print(j,end='')\n",
        "  print()\n",
        "\n",
        "for k in range(4,0,-1):\n",
        "  for m in range(1,k+1):\n",
        "    print(m,end='')\n",
        "  print()\n",
        "  "
      ],
      "metadata": {
        "colab": {
          "base_uri": "https://localhost:8080/"
        },
        "id": "YYhchwJGn3me",
        "outputId": "babc15fe-d435-4d35-fd4e-9ed99e1ef9f3"
      },
      "execution_count": null,
      "outputs": [
        {
          "output_type": "stream",
          "name": "stdout",
          "text": [
            "1\n",
            "12\n",
            "123\n",
            "1234\n",
            "12345\n",
            "1234\n",
            "123\n",
            "12\n",
            "1\n"
          ]
        }
      ]
    },
    {
      "cell_type": "code",
      "source": [
        "for k in range(5,0,-1):\n",
        "  for m in range(1,k+1):\n",
        "    print(m,end='')\n",
        "  print()\n",
        "for i in range(1,6):\n",
        "  for j in range(1,i+1):\n",
        "    print(j,end='')\n",
        "  print()"
      ],
      "metadata": {
        "colab": {
          "base_uri": "https://localhost:8080/"
        },
        "id": "OZFa1Z_yrYCY",
        "outputId": "e6d8de3c-8c46-4cef-9840-8c135f5eee8e"
      },
      "execution_count": null,
      "outputs": [
        {
          "output_type": "stream",
          "name": "stdout",
          "text": [
            "12345\n",
            "1234\n",
            "123\n",
            "12\n",
            "1\n",
            "1\n",
            "12\n",
            "123\n",
            "1234\n",
            "12345\n"
          ]
        }
      ]
    },
    {
      "cell_type": "code",
      "source": [
        "for i in range(1,6):\n",
        "  for j in range(6-i,0,-1):\n",
        "    print(j,end='')\n",
        "  print()\n",
        "for k in range(1,6):\n",
        "  for m in range(k,0,-1):\n",
        "    print(m,end='')\n",
        "  print()"
      ],
      "metadata": {
        "colab": {
          "base_uri": "https://localhost:8080/"
        },
        "id": "zdnKgKlxwNYD",
        "outputId": "9cf709d9-3023-4f63-c420-b131db354e2e"
      },
      "execution_count": null,
      "outputs": [
        {
          "output_type": "stream",
          "name": "stdout",
          "text": [
            "54321\n",
            "4321\n",
            "321\n",
            "21\n",
            "1\n",
            "1\n",
            "21\n",
            "321\n",
            "4321\n",
            "54321\n"
          ]
        }
      ]
    },
    {
      "cell_type": "code",
      "source": [
        "for i in range(1,6):\n",
        "  print(\" \"*(5-i),end='')\n",
        "  for j in range(1,i+1):\n",
        "    print(j,end=' ')\n",
        "  print()"
      ],
      "metadata": {
        "colab": {
          "base_uri": "https://localhost:8080/"
        },
        "id": "JjFhERaSx_x9",
        "outputId": "d4cff46f-de03-4473-a666-3018f1f7d50e"
      },
      "execution_count": null,
      "outputs": [
        {
          "output_type": "stream",
          "name": "stdout",
          "text": [
            "    1 \n",
            "   1 2 \n",
            "  1 2 3 \n",
            " 1 2 3 4 \n",
            "1 2 3 4 5 \n"
          ]
        }
      ]
    },
    {
      "cell_type": "code",
      "source": [
        "for i in range(1,6):\n",
        "  print(\" \"*(5-i),end='')\n",
        "  for j in range(1,i+1):\n",
        "    print(j,end='')\n",
        "  print()"
      ],
      "metadata": {
        "colab": {
          "base_uri": "https://localhost:8080/"
        },
        "id": "QktTLvNM13kk",
        "outputId": "a9180d45-5381-4565-cce2-b520cab3f7ba"
      },
      "execution_count": null,
      "outputs": [
        {
          "output_type": "stream",
          "name": "stdout",
          "text": [
            "    1\n",
            "   12\n",
            "  123\n",
            " 1234\n",
            "12345\n"
          ]
        }
      ]
    },
    {
      "cell_type": "code",
      "source": [
        "for i in range(1,6):\n",
        "  for j in range(5,i-1,-1):\n",
        "    print(j,end='')\n",
        "  print()"
      ],
      "metadata": {
        "colab": {
          "base_uri": "https://localhost:8080/"
        },
        "id": "xxM15CzX2Kqc",
        "outputId": "6ceb02e0-d270-42b4-dd37-374259116476"
      },
      "execution_count": null,
      "outputs": [
        {
          "output_type": "stream",
          "name": "stdout",
          "text": [
            "54321\n",
            "5432\n",
            "543\n",
            "54\n",
            "5\n"
          ]
        }
      ]
    },
    {
      "cell_type": "code",
      "source": [
        "for i in range(1,6):\n",
        "  for j in range(5,5-i,-1):\n",
        "    print(j,end='')\n",
        "  print()"
      ],
      "metadata": {
        "colab": {
          "base_uri": "https://localhost:8080/"
        },
        "id": "Kdb2In6X3QsT",
        "outputId": "18c91a25-e9f2-49a3-a8f0-15a91867a4a8"
      },
      "execution_count": null,
      "outputs": [
        {
          "output_type": "stream",
          "name": "stdout",
          "text": [
            "5\n",
            "54\n",
            "543\n",
            "5432\n",
            "54321\n"
          ]
        }
      ]
    },
    {
      "cell_type": "code",
      "source": [
        "for i in range(0,5):\n",
        "  for j in range(1,6-i):\n",
        "    print(j,end='')\n",
        "  print()"
      ],
      "metadata": {
        "colab": {
          "base_uri": "https://localhost:8080/"
        },
        "id": "YbE4uGEe5FIr",
        "outputId": "09a6c0da-9cd3-454d-95e2-d553adc03f01"
      },
      "execution_count": null,
      "outputs": [
        {
          "output_type": "stream",
          "name": "stdout",
          "text": [
            "12345\n",
            "1234\n",
            "123\n",
            "12\n",
            "1\n"
          ]
        }
      ]
    },
    {
      "cell_type": "code",
      "source": [
        "n=int(input(\"Enter a number:\"))\n",
        "i=1\n",
        "k=1\n",
        "while i<n:\n",
        "    j=1\n",
        "    while j<=i and k<=n:\n",
        "        print(k,end='')\n",
        "        j+=1\n",
        "        k+=1\n",
        "    i+=1\n",
        "    print(\"\")"
      ],
      "metadata": {
        "colab": {
          "base_uri": "https://localhost:8080/"
        },
        "id": "PskS_WwQ5lW7",
        "outputId": "f3be38bf-8276-42e6-afac-630283afc366"
      },
      "execution_count": null,
      "outputs": [
        {
          "output_type": "stream",
          "name": "stdout",
          "text": [
            "Enter a number:14\n",
            "1\n",
            "23\n",
            "456\n",
            "78910\n",
            "11121314\n",
            "\n",
            "\n",
            "\n",
            "\n",
            "\n",
            "\n",
            "\n",
            "\n"
          ]
        }
      ]
    },
    {
      "cell_type": "code",
      "source": [
        "for i in range(1,6):\n",
        "  for j in range(i,0,-1):\n",
        "    print(j,end='')\n",
        "  print()"
      ],
      "metadata": {
        "colab": {
          "base_uri": "https://localhost:8080/"
        },
        "id": "puCQgI5FR3UX",
        "outputId": "d912bf30-8adc-47be-f4fb-6f0d06e884d7"
      },
      "execution_count": null,
      "outputs": [
        {
          "output_type": "stream",
          "name": "stdout",
          "text": [
            "1\n",
            "21\n",
            "321\n",
            "4321\n",
            "54321\n"
          ]
        }
      ]
    },
    {
      "cell_type": "code",
      "source": [
        "for i in range(1,6):\n",
        "    for j in (1,i+1):\n",
        "        print(i,end=\" \")\n",
        "        i+=5\n",
        "    print()\n"
      ],
      "metadata": {
        "colab": {
          "base_uri": "https://localhost:8080/"
        },
        "id": "IdXj_XfDTBn-",
        "outputId": "c267d6b6-bdb6-4f4c-a09d-89fef9c13728"
      },
      "execution_count": null,
      "outputs": [
        {
          "output_type": "stream",
          "name": "stdout",
          "text": [
            "1 6 \n",
            "2 7 \n",
            "3 8 \n",
            "4 9 \n",
            "5 10 \n"
          ]
        }
      ]
    },
    {
      "cell_type": "code",
      "source": [
        "n=int(input(\"Enter a no: \"))\n",
        "for i in range(1,n+1):\n",
        "    for j in range(1,i+1):\n",
        "        print(i, end=\" \")\n",
        "        i+=5\n",
        "    print()\n"
      ],
      "metadata": {
        "colab": {
          "base_uri": "https://localhost:8080/"
        },
        "id": "ETI9M-Rokai6",
        "outputId": "fc00af7b-9c30-4ca8-bc16-7783e578e761"
      },
      "execution_count": null,
      "outputs": [
        {
          "output_type": "stream",
          "name": "stdout",
          "text": [
            "Enter a no: 5\n",
            "1 \n",
            "2 7 \n",
            "3 8 13 \n",
            "4 9 14 19 \n",
            "5 10 15 20 25 \n"
          ]
        }
      ]
    },
    {
      "cell_type": "code",
      "source": [
        "for i in range(1,6):\n",
        "  for j in range(1,i+1):\n",
        "    print(j,end='')\n",
        "  for j in range(i-1,0,-1):\n",
        "    print(j,end='')\n",
        "  print()"
      ],
      "metadata": {
        "colab": {
          "base_uri": "https://localhost:8080/"
        },
        "id": "Sxzogv-Vmnsi",
        "outputId": "1fd5c306-b382-4109-a790-4640a847b868"
      },
      "execution_count": null,
      "outputs": [
        {
          "output_type": "stream",
          "name": "stdout",
          "text": [
            "1\n",
            "121\n",
            "12321\n",
            "1234321\n",
            "123454321\n"
          ]
        }
      ]
    },
    {
      "cell_type": "code",
      "source": [
        "for i in range(5,0,-1):\n",
        "    print(\" \"*(5-i),end='')\n",
        "    for j in range(1,i+1):\n",
        "        print(j,end=' ')\n",
        "    print()"
      ],
      "metadata": {
        "colab": {
          "base_uri": "https://localhost:8080/"
        },
        "id": "wFBMQ83JpTn5",
        "outputId": "cad77c8f-f7c0-45ca-c71b-d9254428e418"
      },
      "execution_count": null,
      "outputs": [
        {
          "output_type": "stream",
          "name": "stdout",
          "text": [
            "1 2 3 4 5 \n",
            " 1 2 3 4 \n",
            "  1 2 3 \n",
            "   1 2 \n",
            "    1 \n"
          ]
        }
      ]
    },
    {
      "cell_type": "code",
      "source": [
        "for i in range(1,6):\n",
        "  print(\" \"*(5-i),end='')\n",
        "  for j in range(1,i+1):\n",
        "    print(j,end=' ')\n",
        "  print()\n",
        "for i in range(4,0,-1):\n",
        "  print(\" \"*(5-i),end='')\n",
        "  for j in range(1,i+1):\n",
        "    print(j,end=' ')\n",
        "  print()"
      ],
      "metadata": {
        "colab": {
          "base_uri": "https://localhost:8080/"
        },
        "id": "YbOWRfITq2SS",
        "outputId": "9733d98e-38c3-468b-8350-578f8799f07e"
      },
      "execution_count": null,
      "outputs": [
        {
          "output_type": "stream",
          "name": "stdout",
          "text": [
            "    1 \n",
            "   1 2 \n",
            "  1 2 3 \n",
            " 1 2 3 4 \n",
            "1 2 3 4 5 \n",
            " 1 2 3 4 \n",
            "  1 2 3 \n",
            "   1 2 \n",
            "    1 \n"
          ]
        }
      ]
    },
    {
      "cell_type": "code",
      "source": [
        "for i in range(5,0,-1):\n",
        "  print(\" \"*(i),end='')\n",
        "  for j in range(5,i-1,-1):\n",
        "    print(j,end=' ')\n",
        "  print()"
      ],
      "metadata": {
        "colab": {
          "base_uri": "https://localhost:8080/"
        },
        "id": "MY91DuHusdRW",
        "outputId": "b3ea4fc2-390b-42d7-b86f-55ba5a382f64"
      },
      "execution_count": null,
      "outputs": [
        {
          "output_type": "stream",
          "name": "stdout",
          "text": [
            "     5 \n",
            "    5 4 \n",
            "   5 4 3 \n",
            "  5 4 3 2 \n",
            " 5 4 3 2 1 \n"
          ]
        }
      ]
    },
    {
      "cell_type": "code",
      "source": [
        "for i in range(1,6):\n",
        "  print(\" \"*(i),end='')\n",
        "  for j in range(5,i-1,-1):\n",
        "    print(j,end=' ')\n",
        "  print()\n",
        "for i in range(5,0,-1):\n",
        "  print(\" \"*(i),end='')\n",
        "  for j in range(5,i-1,-1):\n",
        "    print(j,end=' ')\n",
        "  print()"
      ],
      "metadata": {
        "colab": {
          "base_uri": "https://localhost:8080/"
        },
        "id": "TZDwVBzGwRXu",
        "outputId": "01065dd9-5278-4afa-b9cf-3e226435fbff"
      },
      "execution_count": null,
      "outputs": [
        {
          "output_type": "stream",
          "name": "stdout",
          "text": [
            " 5 4 3 2 1 \n",
            "  5 4 3 2 \n",
            "   5 4 3 \n",
            "    5 4 \n",
            "     5 \n",
            "     5 \n",
            "    5 4 \n",
            "   5 4 3 \n",
            "  5 4 3 2 \n",
            " 5 4 3 2 1 \n"
          ]
        }
      ]
    },
    {
      "cell_type": "code",
      "source": [
        "for i in range(6,1,-1):\n",
        "  print(\" \"*i,end='')\n",
        "  for j in range(i-1,6):\n",
        "    print(j,end=' ')\n",
        "  print()"
      ],
      "metadata": {
        "id": "s3A6FI3Fxi41",
        "colab": {
          "base_uri": "https://localhost:8080/"
        },
        "outputId": "ddb868c9-bdb8-49a7-8618-c24f2a54f235"
      },
      "execution_count": null,
      "outputs": [
        {
          "output_type": "stream",
          "name": "stdout",
          "text": [
            "      5 \n",
            "     4 5 \n",
            "    3 4 5 \n",
            "   2 3 4 5 \n",
            "  1 2 3 4 5 \n"
          ]
        }
      ]
    },
    {
      "cell_type": "code",
      "source": [
        "for i in range(1,6):\n",
        "  print(\" \"*(6-i),end='')\n",
        "  for j in range(1,i+1):\n",
        "    print(j,end='')\n",
        "  for j in range(i-1,0,-1):\n",
        "    print(j,end='')\n",
        "  print()"
      ],
      "metadata": {
        "colab": {
          "base_uri": "https://localhost:8080/"
        },
        "id": "d9KyO7Ohq_EN",
        "outputId": "dbc51fbe-2767-4886-868d-e9d2fba49f3d"
      },
      "execution_count": null,
      "outputs": [
        {
          "output_type": "stream",
          "name": "stdout",
          "text": [
            "     1\n",
            "    121\n",
            "   12321\n",
            "  1234321\n",
            " 123454321\n"
          ]
        }
      ]
    },
    {
      "cell_type": "code",
      "source": [
        "for i in range(1,6):\n",
        "  for j in range(1,i+1):\n",
        "    print(j%2,end=' ')\n",
        "  print()"
      ],
      "metadata": {
        "colab": {
          "base_uri": "https://localhost:8080/"
        },
        "id": "sffaYEC3xxnG",
        "outputId": "cb64b77d-6b7e-4448-c890-4aa8443d74ea"
      },
      "execution_count": null,
      "outputs": [
        {
          "output_type": "stream",
          "name": "stdout",
          "text": [
            "1 \n",
            "1 0 \n",
            "1 0 1 \n",
            "1 0 1 0 \n",
            "1 0 1 0 1 \n"
          ]
        }
      ]
    },
    {
      "cell_type": "code",
      "source": [
        "for i in range(1,6):\n",
        "  print(\"1\"*(5-i),end='')\n",
        "  for j in range(1,i+1):\n",
        "    print(i,end='')\n",
        "  print()"
      ],
      "metadata": {
        "colab": {
          "base_uri": "https://localhost:8080/"
        },
        "id": "RYUTVlCSytUY",
        "outputId": "2fd3f921-8d27-42b0-c33d-94a170f0eb38"
      },
      "execution_count": null,
      "outputs": [
        {
          "output_type": "stream",
          "name": "stdout",
          "text": [
            "11111\n",
            "11122\n",
            "11333\n",
            "14444\n",
            "55555\n"
          ]
        }
      ]
    },
    {
      "cell_type": "code",
      "source": [
        "for i in range(1,6):\n",
        "  for j in range(i,6):\n",
        "    print(j,end='')\n",
        "  for j in range(4,i-1,-1):\n",
        "    print(j,end='')\n",
        "  print()"
      ],
      "metadata": {
        "colab": {
          "base_uri": "https://localhost:8080/"
        },
        "id": "AQt66ZqG0xLm",
        "outputId": "c342decf-7737-40fd-837f-e31165f96878"
      },
      "execution_count": null,
      "outputs": [
        {
          "output_type": "stream",
          "name": "stdout",
          "text": [
            "123454321\n",
            "2345432\n",
            "34543\n",
            "454\n",
            "5\n"
          ]
        }
      ]
    },
    {
      "cell_type": "code",
      "source": [
        "for i in range(1,6):\n",
        "  print(\" \"*(6-i),end='')\n",
        "  for j in range(1,i+1):\n",
        "    print(i,end=' ')\n",
        "  print()"
      ],
      "metadata": {
        "colab": {
          "base_uri": "https://localhost:8080/"
        },
        "id": "7nk448Wx8pTr",
        "outputId": "81c48701-83e6-43f7-b477-e488a9452206"
      },
      "execution_count": null,
      "outputs": [
        {
          "output_type": "stream",
          "name": "stdout",
          "text": [
            "     1 \n",
            "    2 2 \n",
            "   3 3 3 \n",
            "  4 4 4 4 \n",
            " 5 5 5 5 5 \n"
          ]
        }
      ]
    },
    {
      "cell_type": "code",
      "source": [
        ""
      ],
      "metadata": {
        "id": "Y1rV7QX7NUF6"
      },
      "execution_count": null,
      "outputs": []
    }
  ]
}